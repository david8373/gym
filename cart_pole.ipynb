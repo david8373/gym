{
 "cells": [
  {
   "cell_type": "code",
   "execution_count": 1,
   "metadata": {
    "collapsed": true
   },
   "outputs": [],
   "source": [
    "import gym\n",
    "import tensorflow as tf\n",
    "from matplotlib import pyplot as plt\n",
    "import numpy as np\n",
    "%matplotlib inline"
   ]
  },
  {
   "cell_type": "code",
   "execution_count": 44,
   "metadata": {
    "collapsed": true
   },
   "outputs": [],
   "source": [
    "class Agent():\n",
    "    def __init__(self, learning_rate):\n",
    "        self.learning_rate = learning_rate\n",
    "        self.sess = tf.InteractiveSession()\n",
    "        self.s = tf.placeholder(tf.float32, [None, 4], name='s')\n",
    "        self.a = tf.placeholder(tf.int32, [None], name='a')\n",
    "        self.r = tf.placeholder(tf.float32, [None], name='r')\n",
    "         \n",
    "        self.W = tf.Variable(tf.random_normal([4, 2]), name='W')\n",
    "        self.output = tf.nn.softmax(tf.matmul(self.s, self.W)) # simple linear policy\n",
    "        one_hot = tf.one_hot(self.a, 2)\n",
    "        o = tf.reduce_sum(self.output * one_hot, axis=1)\n",
    "        self.loss = -tf.reduce_sum(tf.log(o) * self.r)\n",
    "        \n",
    "        Wg = tf.gradients(self.loss, [self.W])[0]\n",
    "        solver = tf.train.AdamOptimizer(learning_rate=self.learning_rate)\n",
    "        self.update = solver.apply_gradients([(Wg, self.W)])\n",
    "        \n",
    "    def train(self, s, a, r):\n",
    "        self.sess.run(self.update, {self.s: s, self.a: a, self.r: r})\n",
    "        \n",
    "    def decide(self, s):\n",
    "        o = self.sess.run(self.output, {self.s: [s]})[0]\n",
    "        return 0 if np.random.random() <= o[0] else 1 # probabilistic policy"
   ]
  },
  {
   "cell_type": "code",
   "execution_count": 45,
   "metadata": {
    "scrolled": false
   },
   "outputs": [
    {
     "name": "stderr",
     "output_type": "stream",
     "text": [
      "[2017-09-03 03:01:34,841] Making new env: CartPole-v0\n",
      "[2017-09-03 03:01:34,844] Clearing 14 monitor files from previous run (because force=True was provided)\n",
      "[2017-09-03 03:01:34,846] Starting new video recorder writing to /home/ubuntu/gym_monitor/openaigym.video.11.9406.video000000.mp4\n",
      "[2017-09-03 03:01:35,382] Starting new video recorder writing to /home/ubuntu/gym_monitor/openaigym.video.11.9406.video000001.mp4\n"
     ]
    },
    {
     "name": "stdout",
     "output_type": "stream",
     "text": [
      "Episode 0 ran for 34.0 steps\n"
     ]
    },
    {
     "name": "stderr",
     "output_type": "stream",
     "text": [
      "[2017-09-03 03:01:36,101] Starting new video recorder writing to /home/ubuntu/gym_monitor/openaigym.video.11.9406.video000008.mp4\n",
      "[2017-09-03 03:01:38,644] Starting new video recorder writing to /home/ubuntu/gym_monitor/openaigym.video.11.9406.video000027.mp4\n",
      "[2017-09-03 03:01:44,448] Starting new video recorder writing to /home/ubuntu/gym_monitor/openaigym.video.11.9406.video000064.mp4\n"
     ]
    },
    {
     "name": "stdout",
     "output_type": "stream",
     "text": [
      "Episode 100 ran for 101.74 steps\n"
     ]
    },
    {
     "name": "stderr",
     "output_type": "stream",
     "text": [
      "[2017-09-03 03:02:07,812] Starting new video recorder writing to /home/ubuntu/gym_monitor/openaigym.video.11.9406.video000125.mp4\n",
      "[2017-09-03 03:02:39,853] Finished writing results. You can upload them to the scoreboard via gym.upload('/home/ubuntu/gym_monitor')\n"
     ]
    }
   ],
   "source": [
    "gamma = 0.95\n",
    "n_episodes = 200\n",
    "train_every = 5\n",
    "tf.reset_default_graph()\n",
    "agent = Agent(learning_rate=0.2)\n",
    "tf.global_variables_initializer().run()\n",
    "\n",
    "s_all, a_all, r_all = [], [], []\n",
    "nits = []\n",
    "from gym import wrappers\n",
    "env = gym.make('CartPole-v0')\n",
    "env = wrappers.Monitor(env, '/home/ubuntu/gym_monitor', force=True)\n",
    "for ei in range(n_episodes):\n",
    "    s_arr, a_arr, r_arr = [], [], []\n",
    "    s = env.reset()\n",
    "    nit = 0\n",
    "    done = False\n",
    "    while not done:\n",
    "        env.render()\n",
    "        a = agent.decide(s)\n",
    "        s1, r, done, _ = env.step(a)\n",
    "        nit += 1\n",
    "        s_arr.append(s)\n",
    "        a_arr.append(int(a))\n",
    "        r_arr.append(r)\n",
    "        s = s1\n",
    "    nits.append(nit)\n",
    "    if ei % 100 == 0:\n",
    "        print(\"Episode {} ran for {} steps\".format(ei, np.mean(nits[-100:])))\n",
    "    \n",
    "    for i in reversed(range(nit)):\n",
    "        if i + 1 < nit:\n",
    "            r_arr[i] += gamma * r_arr[i+1]\n",
    "    \n",
    "    r_arr = list((r_arr - np.mean(r_arr)) / np.std(r_arr))\n",
    "    if nit >= 200:\n",
    "        r_arr = [1.0] * len(r_arr)\n",
    "    nit = 0\n",
    "    \n",
    "    s_all += s_arr\n",
    "    a_all += a_arr\n",
    "    r_all += r_arr\n",
    "        \n",
    "    if ei > 0 and ei % train_every == 0:   \n",
    "        agent.train(s_all, a_all, r_all)\n",
    "        s_all, a_all, r_all = [], [], []\n",
    "        \n",
    "env.close()"
   ]
  },
  {
   "cell_type": "code",
   "execution_count": 46,
   "metadata": {},
   "outputs": [
    {
     "data": {
      "text/plain": [
       "[<matplotlib.lines.Line2D at 0x7f02449f4208>]"
      ]
     },
     "execution_count": 46,
     "metadata": {},
     "output_type": "execute_result"
    },
    {
     "data": {
      "image/png": "[encoded data removed]",
      "text/plain": [
       "<matplotlib.figure.Figure at 0x7f0244bc3748>"
      ]
     },
     "metadata": {},
     "output_type": "display_data"
    }
   ],
   "source": [
    "plt.plot(nits)"
   ]
  },
  {
   "cell_type": "code",
   "execution_count": 41,
   "metadata": {},
   "outputs": [
    {
     "name": "stderr",
     "output_type": "stream",
     "text": [
      "[2017-09-03 02:55:53,345] [CartPole-v0] Uploading 200 episodes of training data\n",
      "[2017-09-03 02:55:53,452] [CartPole-v0] Uploading videos of 6 training episodes (45124 bytes)\n",
      "[2017-09-03 02:55:53,506] [CartPole-v0] Creating evaluation object from /home/ubuntu/gym_monitor with learning curve and training video\n",
      "[2017-09-03 02:55:53,616] \n",
      "****************************************************\n",
      "You successfully uploaded your evaluation on CartPole-v0 to\n",
      "OpenAI Gym! You can find it at:\n",
      "\n",
      "    https://gym.openai.com/evaluations/eval_0ZgCz7UGQHzdGkTWaJrXA\n",
      "\n",
      "****************************************************\n"
     ]
    }
   ],
   "source": [
    "gym.upload('/home/ubuntu/gym_monitor', api_key='sk_f83vlfx1Ree3oFRhEbGxg')"
   ]
  },
  {
   "cell_type": "code",
   "execution_count": 9,
   "metadata": {},
   "outputs": [
    {
     "name": "stderr",
     "output_type": "stream",
     "text": [
      "[2017-09-03 02:24:45,279] Making new env: CartPole-v0\n"
     ]
    },
    {
     "name": "stdout",
     "output_type": "stream",
     "text": [
      "input_size = 4\n",
      "hidden_size = 10\n",
      "gamma = 0.95\n",
      "action_size = 2\n",
      "alpha = 0.1\n",
      "episode 0, current_reward 12, running_reward 0\n",
      "episode 50, current_reward 200, running_reward 26\n",
      "episode 100, current_reward 200, running_reward 84\n",
      "episode 150, current_reward 200, running_reward 130\n",
      "episode 200, current_reward 200, running_reward 157\n",
      "episode 250, current_reward 200, running_reward 162\n",
      "episode 300, current_reward 180, running_reward 165\n",
      "episode 350, current_reward 195, running_reward 164\n",
      "episode 400, current_reward 200, running_reward 166\n",
      "episode 450, current_reward 200, running_reward 179\n",
      "episode 500, current_reward 200, running_reward 187\n",
      "episode 550, current_reward 200, running_reward 192\n",
      "episode 600, current_reward 200, running_reward 195\n",
      "episode 650, current_reward 200, running_reward 197\n",
      "episode 700, current_reward 200, running_reward 198\n",
      "episode 750, current_reward 200, running_reward 196\n",
      "episode 800, current_reward 200, running_reward 193\n",
      "episode 850, current_reward 200, running_reward 196\n",
      "episode 900, current_reward 200, running_reward 197\n",
      "episode 950, current_reward 200, running_reward 198\n"
     ]
    }
   ],
   "source": [
    "import gym\n",
    "import numpy as np\n",
    "import tensorflow as tf\n",
    "import tensorflow.contrib.layers as layers\n",
    "\n",
    "from gym import wrappers\n",
    "\n",
    "\n",
    "def discounted_reward(rewards, gamma):\n",
    "    \"\"\"Compute the discounted reward.\"\"\"\n",
    "    ans = np.zeros_like(rewards)\n",
    "    running_sum = 0\n",
    "    # compute the result backward\n",
    "    for i in reversed(range(len(rewards))):\n",
    "        running_sum = running_sum * gamma + rewards[i]\n",
    "        ans[i] = running_sum\n",
    "    return ans\n",
    "\n",
    "\n",
    "def test():\n",
    "    \"\"\"Just a test function to make sure I'm coding the\n",
    "    right thing. \"\"\"\n",
    "    rewards = np.array([4, 2, 2, 1])\n",
    "    print(discounted_reward(rewards, 1))\n",
    "    # print out some help information about the environment\n",
    "    env = gym.make('CartPole-v0')\n",
    "    s = env.reset()\n",
    "    print('Start state: ', s)\n",
    "    print('Action space: ', env.action_space.n)\n",
    "\n",
    "\n",
    "class Agent(object):\n",
    "    def __init__(self, input_size=4, hidden_size=2, gamma=0.95,\n",
    "                 action_size=2, alpha=0.1):\n",
    "        self.input_size = input_size\n",
    "        self.hidden_size = hidden_size\n",
    "        self.gamma = gamma\n",
    "        self.action_size = action_size\n",
    "        self.alpha = alpha\n",
    "        # save the hyper parameters\n",
    "        self.params = self.__dict__.copy()\n",
    "        # placeholders\n",
    "        self.input_pl = tf.placeholder(tf.float32, [None, input_size])\n",
    "        self.action_pl = tf.placeholder(tf.int32, [None])\n",
    "        self.reward_pl = tf.placeholder(tf.float32, [None])\n",
    "        # a two-layer fully connected network\n",
    "        hidden_layer = layers.fully_connected(self.input_pl,\n",
    "                                              hidden_size,\n",
    "                                              biases_initializer=None,\n",
    "                                              activation_fn=tf.nn.relu)\n",
    "        self.output = layers.fully_connected(hidden_layer,\n",
    "                                             action_size,\n",
    "                                             biases_initializer=None,\n",
    "                                             activation_fn=tf.nn.softmax)\n",
    "        # responsible output\n",
    "        one_hot = tf.one_hot(self.action_pl, action_size)\n",
    "        responsible_output = tf.reduce_sum(self.output * one_hot, axis=1)\n",
    "        self.loss = -tf.reduce_mean(tf.log(responsible_output) * self.reward_pl)\n",
    "        # training variables\n",
    "        variables = tf.trainable_variables()\n",
    "        self.variable_pls = []\n",
    "        for i, var in enumerate(variables):\n",
    "            self.variable_pls.append(tf.placeholder(tf.float32))\n",
    "        self.gradients = tf.gradients(self.loss, variables)\n",
    "        solver = tf.train.AdamOptimizer(learning_rate=alpha)\n",
    "        self.update = solver.apply_gradients(zip(self.variable_pls, variables))\n",
    "\n",
    "    def next_action(self, sess, feed_dict, greedy=False):\n",
    "        \"\"\"Pick an action based on the current state.\n",
    "        Args:\n",
    "        - sess: a tensorflow session\n",
    "        - feed_dict: parameter for sess.run()\n",
    "        - greedy: boolean, whether to take action greedily\n",
    "        Return:\n",
    "            Integer, action to be taken.\n",
    "        \"\"\"\n",
    "        ans = sess.run(self.output, feed_dict=feed_dict)[0]\n",
    "        if greedy:\n",
    "            return ans.argmax()\n",
    "        else:\n",
    "            return np.random.choice(range(self.action_size), p=ans)\n",
    "\n",
    "    def show_parameters(self):\n",
    "        \"\"\"Helper function to show the hyper parameters.\"\"\"\n",
    "        for key, value in self.params.items():\n",
    "            print(key, '=', value)\n",
    "\n",
    "\n",
    "render = False\n",
    "update_every = 3\n",
    "print_every = 50\n",
    "n_episodes = 1000\n",
    "rate = 0.01\n",
    "running_reward = 0.0\n",
    "tf.reset_default_graph()\n",
    "agent = Agent(hidden_size=10, alpha=1e-1, gamma=0.95)\n",
    "agent.show_parameters()\n",
    "env = gym.make('CartPole-v0')\n",
    "#env = wrappers.Monitor(env, 'tmp/trial/', force=True)\n",
    "with tf.Session() as sess:\n",
    "    tf.global_variables_initializer().run()\n",
    "    grad_buffer = sess.run(tf.trainable_variables())\n",
    "    for idx in range(len(grad_buffer)):\n",
    "        grad_buffer[idx] *= 0\n",
    "    for i in range(n_episodes):\n",
    "        s = env.reset()\n",
    "        state_history = []\n",
    "        reward_history = []\n",
    "        action_history = []\n",
    "        current_reward = 0\n",
    "        while True:\n",
    "            feed_dict = {agent.input_pl: [s]}\n",
    "            greedy = False\n",
    "            action = agent.next_action(sess, feed_dict, greedy=greedy)\n",
    "            snext, r, done, _ = env.step(action)\n",
    "            if render and i % 50 == 0:\n",
    "                env.render()\n",
    "            current_reward += r\n",
    "            state_history.append(s)\n",
    "            reward_history.append(r)\n",
    "            action_history.append(action)\n",
    "            s = snext\n",
    "            if done:\n",
    "                state_history = np.array(state_history)\n",
    "                rewards = discounted_reward(reward_history, agent.gamma)\n",
    "                R = rewards\n",
    "                # normalizing the reward really helps\n",
    "                rewards = (rewards - np.mean(rewards)) / np.std(rewards)\n",
    "                feed_dict = {\n",
    "                    agent.reward_pl: rewards,\n",
    "                    agent.action_pl: action_history,\n",
    "                    agent.input_pl: state_history\n",
    "                }\n",
    "                episode_gradients = sess.run(agent.gradients,\n",
    "                                             feed_dict=feed_dict)\n",
    "                #print(\"updating ep gradient\")\n",
    "                for idx, grad in enumerate(episode_gradients):\n",
    "                    grad_buffer[idx] += grad\n",
    "\n",
    "                if i % update_every == 0:\n",
    "                    #print('updating')\n",
    "                    feed_dict = dict(zip(agent.variable_pls, grad_buffer))\n",
    "                    sess.run(agent.update, feed_dict=feed_dict)\n",
    "                    # reset the buffer to zero\n",
    "                    for idx in range(len(grad_buffer)):\n",
    "                        grad_buffer[idx] *= 0\n",
    "                if i % print_every == 0:\n",
    "                    print('episode %d, current_reward %d, running_reward %d' % (i, current_reward, running_reward))\n",
    "                break\n",
    "        running_reward = rate * current_reward + (1 - rate) * running_reward\n",
    "\n",
    "\n",
    "#if __name__ == '__main__':\n",
    "#    test()\n",
    "#train()"
   ]
  },
  {
   "cell_type": "code",
   "execution_count": 10,
   "metadata": {},
   "outputs": [
    {
     "data": {
      "text/plain": [
       "[<matplotlib.lines.Line2D at 0x7f0246a79828>]"
      ]
     },
     "execution_count": 10,
     "metadata": {},
     "output_type": "execute_result"
    },
    {
     "data": {
      "image/png": "[encoded data removed]",
      "text/plain": [
       "<matplotlib.figure.Figure at 0x7f025d43a9e8>"
      ]
     },
     "metadata": {},
     "output_type": "display_data"
    }
   ],
   "source": [
    "plt.plot(rewards)"
   ]
  }
 ],
 "metadata": {
  "kernelspec": {
   "display_name": "Python 3",
   "language": "python",
   "name": "python3"
  },
  "language_info": {
   "codemirror_mode": {
    "name": "ipython",
    "version": 3
   },
   "file_extension": ".py",
   "mimetype": "text/x-python",
   "name": "python",
   "nbconvert_exporter": "python",
   "pygments_lexer": "ipython3",
   "version": "3.6.1"
  }
 },
 "nbformat": 4,
 "nbformat_minor": 2
}
