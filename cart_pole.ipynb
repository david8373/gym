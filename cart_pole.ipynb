{
 "cells": [
  {
   "cell_type": "code",
   "execution_count": 21,
   "metadata": {},
   "outputs": [
    {
     "name": "stderr",
     "output_type": "stream",
     "text": [
      "[2017-08-22 02:11:18,413] Making new env: CartPole-v0\n"
     ]
    },
    {
     "name": "stdout",
     "output_type": "stream",
     "text": [
      "Discrete(2)\n",
      "Box(4,)\n"
     ]
    }
   ],
   "source": [
    "import gym\n",
    "import tensorflow as tf\n",
    "from matplotlib import pyplot as plt\n",
    "import numpy as np\n",
    "%matplotlib inline\n",
    "env = gym.make('CartPole-v0')\n",
    "print(env.action_space)\n",
    "print(env.observation_space)"
   ]
  },
  {
   "cell_type": "code",
   "execution_count": 22,
   "metadata": {},
   "outputs": [
    {
     "name": "stdout",
     "output_type": "stream",
     "text": [
      "[  4.80000000e+00   3.40282347e+38   4.18879020e-01   3.40282347e+38]\n",
      "[ -4.80000000e+00  -3.40282347e+38  -4.18879020e-01  -3.40282347e+38]\n"
     ]
    }
   ],
   "source": [
    "print(env.observation_space.high)\n",
    "print(env.observation_space.low)"
   ]
  },
  {
   "cell_type": "code",
   "execution_count": 77,
   "metadata": {
    "collapsed": true
   },
   "outputs": [],
   "source": [
    "class Agent():\n",
    "    def __init__(self, epsilon, learning_rate):\n",
    "        self.epsilon = epsilon\n",
    "        self.learning_rate = learning_rate\n",
    "        self.sess = tf.InteractiveSession()\n",
    "        self.s = tf.placeholder(tf.float32, [None, 4], name='s')\n",
    "        self.a = tf.placeholder(tf.int32, [None], name='a')\n",
    "        self.r = tf.placeholder(tf.float32, [None], name='r')\n",
    "         \n",
    "        self.W1 = tf.Variable(tf.zeros([4, 10]), name='W1')\n",
    "        self.b1 = tf.Variable(tf.zeros([10]), name='b1')\n",
    "        self.hidden = tf.nn.softmax(tf.matmul(self.s, self.W1) + self.b1)\n",
    "        self.W2 = tf.Variable(tf.zeros([10, 2]), name='W2')\n",
    "        self.b2 = tf.Variable(tf.zeros([2]), name='b2')\n",
    "        self.output = tf.nn.softmax(tf.matmul(self.hidden, self.W2) + self.b2)\n",
    "        one_hot = tf.one_hot(self.a, 2)\n",
    "        o = tf.reduce_sum(self.output * one_hot, axis=1)\n",
    "        loss = -tf.reduce_sum(tf.log(o) * self.r)\n",
    "        \n",
    "        W1g, b1g, W2g, b2g = tf.gradients(loss, [self.W1, self.b1, self.W2, self.b2])\n",
    "        solver = tf.train.AdamOptimizer(learning_rate=self.learning_rate)\n",
    "        self.update = solver.apply_gradients([(W1g, self.W1), (b1g, self.b1), (W2g, self.W2), (b2g, self.b2)])\n",
    "        \n",
    "    def train(self, s, a, r):\n",
    "        self.sess.run(self.update, {self.s: s, self.a: a, self.r: r})\n",
    "        \n",
    "    def decide(self, s):\n",
    "        o = self.sess.run(self.output, {self.s: [s]})[0]\n",
    "        return 0 if np.random.random() <= o[0] else 1"
   ]
  },
  {
   "cell_type": "code",
   "execution_count": 78,
   "metadata": {},
   "outputs": [
    {
     "name": "stdout",
     "output_type": "stream",
     "text": [
      "Episode 0 ran for 24 steps\n",
      "Episode 100 ran for 11 steps\n",
      "Episode 200 ran for 39 steps\n",
      "Episode 300 ran for 20 steps\n",
      "Episode 400 ran for 14 steps\n",
      "Episode 500 ran for 14 steps\n",
      "Episode 600 ran for 27 steps\n",
      "Episode 700 ran for 43 steps\n",
      "Episode 800 ran for 17 steps\n",
      "Episode 900 ran for 17 steps\n",
      "Episode 1000 ran for 14 steps\n",
      "Episode 1100 ran for 17 steps\n",
      "Episode 1200 ran for 99 steps\n",
      "Episode 1300 ran for 125 steps\n",
      "Episode 1400 ran for 198 steps\n",
      "Episode 1500 ran for 116 steps\n",
      "Episode 1600 ran for 132 steps\n",
      "Episode 1700 ran for 134 steps\n",
      "Episode 1800 ran for 119 steps\n",
      "Episode 1900 ran for 86 steps\n",
      "Episode 2000 ran for 133 steps\n",
      "Episode 2100 ran for 200 steps\n",
      "Episode 2200 ran for 200 steps\n",
      "Episode 2300 ran for 200 steps\n",
      "Episode 2400 ran for 177 steps\n",
      "Episode 2500 ran for 200 steps\n",
      "Episode 2600 ran for 188 steps\n"
     ]
    },
    {
     "ename": "KeyboardInterrupt",
     "evalue": "",
     "output_type": "error",
     "traceback": [
      "\u001b[0;31m---------------------------------------------------------------------------\u001b[0m",
      "\u001b[0;31mKeyboardInterrupt\u001b[0m                         Traceback (most recent call last)",
      "\u001b[0;32m<ipython-input-78-ef2c4961d387>\u001b[0m in \u001b[0;36m<module>\u001b[0;34m()\u001b[0m\n\u001b[1;32m     13\u001b[0m     \u001b[0mdone\u001b[0m \u001b[0;34m=\u001b[0m \u001b[0;32mFalse\u001b[0m\u001b[0;34m\u001b[0m\u001b[0m\n\u001b[1;32m     14\u001b[0m     \u001b[0;32mwhile\u001b[0m \u001b[0;32mnot\u001b[0m \u001b[0mdone\u001b[0m\u001b[0;34m:\u001b[0m\u001b[0;34m\u001b[0m\u001b[0m\n\u001b[0;32m---> 15\u001b[0;31m         \u001b[0ma\u001b[0m \u001b[0;34m=\u001b[0m \u001b[0magent\u001b[0m\u001b[0;34m.\u001b[0m\u001b[0mdecide\u001b[0m\u001b[0;34m(\u001b[0m\u001b[0ms\u001b[0m\u001b[0;34m)\u001b[0m\u001b[0;34m\u001b[0m\u001b[0m\n\u001b[0m\u001b[1;32m     16\u001b[0m         \u001b[0ms1\u001b[0m\u001b[0;34m,\u001b[0m \u001b[0mr\u001b[0m\u001b[0;34m,\u001b[0m \u001b[0mdone\u001b[0m\u001b[0;34m,\u001b[0m \u001b[0m_\u001b[0m \u001b[0;34m=\u001b[0m \u001b[0menv\u001b[0m\u001b[0;34m.\u001b[0m\u001b[0mstep\u001b[0m\u001b[0;34m(\u001b[0m\u001b[0ma\u001b[0m\u001b[0;34m)\u001b[0m\u001b[0;34m\u001b[0m\u001b[0m\n\u001b[1;32m     17\u001b[0m         \u001b[0mnit\u001b[0m \u001b[0;34m+=\u001b[0m \u001b[0;36m1\u001b[0m\u001b[0;34m\u001b[0m\u001b[0m\n",
      "\u001b[0;32m<ipython-input-77-102ecf336cca>\u001b[0m in \u001b[0;36mdecide\u001b[0;34m(self, s)\u001b[0m\n\u001b[1;32m     27\u001b[0m \u001b[0;34m\u001b[0m\u001b[0m\n\u001b[1;32m     28\u001b[0m     \u001b[0;32mdef\u001b[0m \u001b[0mdecide\u001b[0m\u001b[0;34m(\u001b[0m\u001b[0mself\u001b[0m\u001b[0;34m,\u001b[0m \u001b[0ms\u001b[0m\u001b[0;34m)\u001b[0m\u001b[0;34m:\u001b[0m\u001b[0;34m\u001b[0m\u001b[0m\n\u001b[0;32m---> 29\u001b[0;31m         \u001b[0mo\u001b[0m \u001b[0;34m=\u001b[0m \u001b[0mself\u001b[0m\u001b[0;34m.\u001b[0m\u001b[0msess\u001b[0m\u001b[0;34m.\u001b[0m\u001b[0mrun\u001b[0m\u001b[0;34m(\u001b[0m\u001b[0mself\u001b[0m\u001b[0;34m.\u001b[0m\u001b[0moutput\u001b[0m\u001b[0;34m,\u001b[0m \u001b[0;34m{\u001b[0m\u001b[0mself\u001b[0m\u001b[0;34m.\u001b[0m\u001b[0ms\u001b[0m\u001b[0;34m:\u001b[0m \u001b[0;34m[\u001b[0m\u001b[0ms\u001b[0m\u001b[0;34m]\u001b[0m\u001b[0;34m}\u001b[0m\u001b[0;34m)\u001b[0m\u001b[0;34m[\u001b[0m\u001b[0;36m0\u001b[0m\u001b[0;34m]\u001b[0m\u001b[0;34m\u001b[0m\u001b[0m\n\u001b[0m\u001b[1;32m     30\u001b[0m         \u001b[0;32mreturn\u001b[0m \u001b[0;36m0\u001b[0m \u001b[0;32mif\u001b[0m \u001b[0mnp\u001b[0m\u001b[0;34m.\u001b[0m\u001b[0mrandom\u001b[0m\u001b[0;34m.\u001b[0m\u001b[0mrandom\u001b[0m\u001b[0;34m(\u001b[0m\u001b[0;34m)\u001b[0m \u001b[0;34m<=\u001b[0m \u001b[0mo\u001b[0m\u001b[0;34m[\u001b[0m\u001b[0;36m0\u001b[0m\u001b[0;34m]\u001b[0m \u001b[0;32melse\u001b[0m \u001b[0;36m1\u001b[0m\u001b[0;34m\u001b[0m\u001b[0m\n",
      "\u001b[0;32m/usr/local/lib/python3.5/dist-packages/tensorflow/python/client/session.py\u001b[0m in \u001b[0;36mrun\u001b[0;34m(self, fetches, feed_dict, options, run_metadata)\u001b[0m\n\u001b[1;32m    893\u001b[0m     \u001b[0;32mtry\u001b[0m\u001b[0;34m:\u001b[0m\u001b[0;34m\u001b[0m\u001b[0m\n\u001b[1;32m    894\u001b[0m       result = self._run(None, fetches, feed_dict, options_ptr,\n\u001b[0;32m--> 895\u001b[0;31m                          run_metadata_ptr)\n\u001b[0m\u001b[1;32m    896\u001b[0m       \u001b[0;32mif\u001b[0m \u001b[0mrun_metadata\u001b[0m\u001b[0;34m:\u001b[0m\u001b[0;34m\u001b[0m\u001b[0m\n\u001b[1;32m    897\u001b[0m         \u001b[0mproto_data\u001b[0m \u001b[0;34m=\u001b[0m \u001b[0mtf_session\u001b[0m\u001b[0;34m.\u001b[0m\u001b[0mTF_GetBuffer\u001b[0m\u001b[0;34m(\u001b[0m\u001b[0mrun_metadata_ptr\u001b[0m\u001b[0;34m)\u001b[0m\u001b[0;34m\u001b[0m\u001b[0m\n",
      "\u001b[0;32m/usr/local/lib/python3.5/dist-packages/tensorflow/python/client/session.py\u001b[0m in \u001b[0;36m_run\u001b[0;34m(self, handle, fetches, feed_dict, options, run_metadata)\u001b[0m\n\u001b[1;32m   1122\u001b[0m     \u001b[0;32mif\u001b[0m \u001b[0mfinal_fetches\u001b[0m \u001b[0;32mor\u001b[0m \u001b[0mfinal_targets\u001b[0m \u001b[0;32mor\u001b[0m \u001b[0;34m(\u001b[0m\u001b[0mhandle\u001b[0m \u001b[0;32mand\u001b[0m \u001b[0mfeed_dict_tensor\u001b[0m\u001b[0;34m)\u001b[0m\u001b[0;34m:\u001b[0m\u001b[0;34m\u001b[0m\u001b[0m\n\u001b[1;32m   1123\u001b[0m       results = self._do_run(handle, final_targets, final_fetches,\n\u001b[0;32m-> 1124\u001b[0;31m                              feed_dict_tensor, options, run_metadata)\n\u001b[0m\u001b[1;32m   1125\u001b[0m     \u001b[0;32melse\u001b[0m\u001b[0;34m:\u001b[0m\u001b[0;34m\u001b[0m\u001b[0m\n\u001b[1;32m   1126\u001b[0m       \u001b[0mresults\u001b[0m \u001b[0;34m=\u001b[0m \u001b[0;34m[\u001b[0m\u001b[0;34m]\u001b[0m\u001b[0;34m\u001b[0m\u001b[0m\n",
      "\u001b[0;32m/usr/local/lib/python3.5/dist-packages/tensorflow/python/client/session.py\u001b[0m in \u001b[0;36m_do_run\u001b[0;34m(self, handle, target_list, fetch_list, feed_dict, options, run_metadata)\u001b[0m\n\u001b[1;32m   1319\u001b[0m     \u001b[0;32mif\u001b[0m \u001b[0mhandle\u001b[0m \u001b[0;32mis\u001b[0m \u001b[0;32mNone\u001b[0m\u001b[0;34m:\u001b[0m\u001b[0;34m\u001b[0m\u001b[0m\n\u001b[1;32m   1320\u001b[0m       return self._do_call(_run_fn, self._session, feeds, fetches, targets,\n\u001b[0;32m-> 1321\u001b[0;31m                            options, run_metadata)\n\u001b[0m\u001b[1;32m   1322\u001b[0m     \u001b[0;32melse\u001b[0m\u001b[0;34m:\u001b[0m\u001b[0;34m\u001b[0m\u001b[0m\n\u001b[1;32m   1323\u001b[0m       \u001b[0;32mreturn\u001b[0m \u001b[0mself\u001b[0m\u001b[0;34m.\u001b[0m\u001b[0m_do_call\u001b[0m\u001b[0;34m(\u001b[0m\u001b[0m_prun_fn\u001b[0m\u001b[0;34m,\u001b[0m \u001b[0mself\u001b[0m\u001b[0;34m.\u001b[0m\u001b[0m_session\u001b[0m\u001b[0;34m,\u001b[0m \u001b[0mhandle\u001b[0m\u001b[0;34m,\u001b[0m \u001b[0mfeeds\u001b[0m\u001b[0;34m,\u001b[0m \u001b[0mfetches\u001b[0m\u001b[0;34m)\u001b[0m\u001b[0;34m\u001b[0m\u001b[0m\n",
      "\u001b[0;32m/usr/local/lib/python3.5/dist-packages/tensorflow/python/client/session.py\u001b[0m in \u001b[0;36m_do_call\u001b[0;34m(self, fn, *args)\u001b[0m\n\u001b[1;32m   1325\u001b[0m   \u001b[0;32mdef\u001b[0m \u001b[0m_do_call\u001b[0m\u001b[0;34m(\u001b[0m\u001b[0mself\u001b[0m\u001b[0;34m,\u001b[0m \u001b[0mfn\u001b[0m\u001b[0;34m,\u001b[0m \u001b[0;34m*\u001b[0m\u001b[0margs\u001b[0m\u001b[0;34m)\u001b[0m\u001b[0;34m:\u001b[0m\u001b[0;34m\u001b[0m\u001b[0m\n\u001b[1;32m   1326\u001b[0m     \u001b[0;32mtry\u001b[0m\u001b[0;34m:\u001b[0m\u001b[0;34m\u001b[0m\u001b[0m\n\u001b[0;32m-> 1327\u001b[0;31m       \u001b[0;32mreturn\u001b[0m \u001b[0mfn\u001b[0m\u001b[0;34m(\u001b[0m\u001b[0;34m*\u001b[0m\u001b[0margs\u001b[0m\u001b[0;34m)\u001b[0m\u001b[0;34m\u001b[0m\u001b[0m\n\u001b[0m\u001b[1;32m   1328\u001b[0m     \u001b[0;32mexcept\u001b[0m \u001b[0merrors\u001b[0m\u001b[0;34m.\u001b[0m\u001b[0mOpError\u001b[0m \u001b[0;32mas\u001b[0m \u001b[0me\u001b[0m\u001b[0;34m:\u001b[0m\u001b[0;34m\u001b[0m\u001b[0m\n\u001b[1;32m   1329\u001b[0m       \u001b[0mmessage\u001b[0m \u001b[0;34m=\u001b[0m \u001b[0mcompat\u001b[0m\u001b[0;34m.\u001b[0m\u001b[0mas_text\u001b[0m\u001b[0;34m(\u001b[0m\u001b[0me\u001b[0m\u001b[0;34m.\u001b[0m\u001b[0mmessage\u001b[0m\u001b[0;34m)\u001b[0m\u001b[0;34m\u001b[0m\u001b[0m\n",
      "\u001b[0;32m/usr/local/lib/python3.5/dist-packages/tensorflow/python/client/session.py\u001b[0m in \u001b[0;36m_run_fn\u001b[0;34m(session, feed_dict, fetch_list, target_list, options, run_metadata)\u001b[0m\n\u001b[1;32m   1304\u001b[0m           return tf_session.TF_Run(session, options,\n\u001b[1;32m   1305\u001b[0m                                    \u001b[0mfeed_dict\u001b[0m\u001b[0;34m,\u001b[0m \u001b[0mfetch_list\u001b[0m\u001b[0;34m,\u001b[0m \u001b[0mtarget_list\u001b[0m\u001b[0;34m,\u001b[0m\u001b[0;34m\u001b[0m\u001b[0m\n\u001b[0;32m-> 1306\u001b[0;31m                                    status, run_metadata)\n\u001b[0m\u001b[1;32m   1307\u001b[0m \u001b[0;34m\u001b[0m\u001b[0m\n\u001b[1;32m   1308\u001b[0m     \u001b[0;32mdef\u001b[0m \u001b[0m_prun_fn\u001b[0m\u001b[0;34m(\u001b[0m\u001b[0msession\u001b[0m\u001b[0;34m,\u001b[0m \u001b[0mhandle\u001b[0m\u001b[0;34m,\u001b[0m \u001b[0mfeed_dict\u001b[0m\u001b[0;34m,\u001b[0m \u001b[0mfetch_list\u001b[0m\u001b[0;34m)\u001b[0m\u001b[0;34m:\u001b[0m\u001b[0;34m\u001b[0m\u001b[0m\n",
      "\u001b[0;31mKeyboardInterrupt\u001b[0m: "
     ]
    }
   ],
   "source": [
    "gamma = 0.95\n",
    "n_episodes = 10000\n",
    "train_every = 5\n",
    "tf.reset_default_graph()\n",
    "agent = Agent(epsilon=0.05, learning_rate=0.1)\n",
    "tf.global_variables_initializer().run()\n",
    "s_all, a_all, r_all = [], [], []\n",
    "nits = []\n",
    "for ei in range(n_episodes):\n",
    "    s_arr, a_arr, r_arr = [], [], []\n",
    "    s = env.reset()\n",
    "    nit = 0\n",
    "    done = False\n",
    "    while not done:\n",
    "        a = agent.decide(s)\n",
    "        s1, r, done, _ = env.step(a)\n",
    "        nit += 1\n",
    "        s_arr.append(s)\n",
    "        a_arr.append(int(a))\n",
    "        r_arr.append(r)\n",
    "        s = s1\n",
    "    nits.append(nit)\n",
    "    if ei % 100 == 0:\n",
    "        print(\"Episode {} ran for {} steps\".format(ei, nit))\n",
    "    for i in reversed(range(nit)):\n",
    "        if i + 1 < nit:\n",
    "            r_arr[i] += gamma * r_arr[i+1]\n",
    "    nit = 0\n",
    "    \n",
    "    s_all += s_arr\n",
    "    a_all += a_arr\n",
    "    r_all += r_arr\n",
    "    s_arr, a_arr, r_arr = [], [], []\n",
    "    if ei > 0 and ei % train_every == 0:        \n",
    "        r_all_np = np.array(r_all)\n",
    "        r_all_np = (r_all_np - np.mean(r_all_np)) / np.std(r_all_np)\n",
    "        agent.train(s_all, a_all, r_all_np)\n",
    "        s_all, a_all, r_all = [], [], []"
   ]
  },
  {
   "cell_type": "code",
   "execution_count": 79,
   "metadata": {},
   "outputs": [
    {
     "data": {
      "text/plain": [
       "[<matplotlib.lines.Line2D at 0x7f4ce8ce1278>]"
      ]
     },
     "execution_count": 79,
     "metadata": {},
     "output_type": "execute_result"
    },
    {
     "data": {
      "image/png": "[encoded data removed]",
      "text/plain": [
       "<matplotlib.figure.Figure at 0x7f4ce8d6ce48>"
      ]
     },
     "metadata": {},
     "output_type": "display_data"
    }
   ],
   "source": [
    "plt.plot(nits)"
   ]
  },
  {
   "cell_type": "code",
   "execution_count": 12,
   "metadata": {},
   "outputs": [
    {
     "name": "stderr",
     "output_type": "stream",
     "text": [
      "[2017-08-20 15:38:18,488] Making new env: CartPole-v0\n"
     ]
    },
    {
     "name": "stdout",
     "output_type": "stream",
     "text": [
      "input_size = 4\n",
      "hidden_size = 10\n",
      "gamma = 0.95\n",
      "action_size = 2\n",
      "alpha = 0.1\n",
      "updating ep gradient\n",
      "updating\n",
      "episode 0, current_reward 12, running_reward 0\n",
      "updating ep gradient\n",
      "updating ep gradient\n",
      "updating ep gradient\n",
      "updating\n",
      "updating ep gradient\n"
     ]
    }
   ],
   "source": [
    "import gym\n",
    "import numpy as np\n",
    "import tensorflow as tf\n",
    "import tensorflow.contrib.layers as layers\n",
    "\n",
    "from gym import wrappers\n",
    "\n",
    "\n",
    "def discounted_reward(rewards, gamma):\n",
    "    \"\"\"Compute the discounted reward.\"\"\"\n",
    "    ans = np.zeros_like(rewards)\n",
    "    running_sum = 0\n",
    "    # compute the result backward\n",
    "    for i in reversed(range(len(rewards))):\n",
    "        running_sum = running_sum * gamma + rewards[i]\n",
    "        ans[i] = running_sum\n",
    "    return ans\n",
    "\n",
    "\n",
    "def test():\n",
    "    \"\"\"Just a test function to make sure I'm coding the\n",
    "    right thing. \"\"\"\n",
    "    rewards = np.array([4, 2, 2, 1])\n",
    "    print(discounted_reward(rewards, 1))\n",
    "    # print out some help information about the environment\n",
    "    env = gym.make('CartPole-v0')\n",
    "    s = env.reset()\n",
    "    print('Start state: ', s)\n",
    "    print('Action space: ', env.action_space.n)\n",
    "\n",
    "\n",
    "class Agent(object):\n",
    "    def __init__(self, input_size=4, hidden_size=2, gamma=0.95,\n",
    "                 action_size=2, alpha=0.1):\n",
    "        self.input_size = input_size\n",
    "        self.hidden_size = hidden_size\n",
    "        self.gamma = gamma\n",
    "        self.action_size = action_size\n",
    "        self.alpha = alpha\n",
    "        # save the hyper parameters\n",
    "        self.params = self.__dict__.copy()\n",
    "        # placeholders\n",
    "        self.input_pl = tf.placeholder(tf.float32, [None, input_size])\n",
    "        self.action_pl = tf.placeholder(tf.int32, [None])\n",
    "        self.reward_pl = tf.placeholder(tf.float32, [None])\n",
    "        # a two-layer fully connected network\n",
    "        hidden_layer = layers.fully_connected(self.input_pl,\n",
    "                                              hidden_size,\n",
    "                                              biases_initializer=None,\n",
    "                                              activation_fn=tf.nn.relu)\n",
    "        self.output = layers.fully_connected(hidden_layer,\n",
    "                                             action_size,\n",
    "                                             biases_initializer=None,\n",
    "                                             activation_fn=tf.nn.softmax)\n",
    "        # responsible output\n",
    "        one_hot = tf.one_hot(self.action_pl, action_size)\n",
    "        responsible_output = tf.reduce_sum(self.output * one_hot, axis=1)\n",
    "        self.loss = -tf.reduce_mean(tf.log(responsible_output) * self.reward_pl)\n",
    "        # training variables\n",
    "        variables = tf.trainable_variables()\n",
    "        self.variable_pls = []\n",
    "        for i, var in enumerate(variables):\n",
    "            self.variable_pls.append(tf.placeholder(tf.float32))\n",
    "        self.gradients = tf.gradients(self.loss, variables)\n",
    "        solver = tf.train.AdamOptimizer(learning_rate=alpha)\n",
    "        self.update = solver.apply_gradients(zip(self.variable_pls, variables))\n",
    "\n",
    "    def next_action(self, sess, feed_dict, greedy=False):\n",
    "        \"\"\"Pick an action based on the current state.\n",
    "        Args:\n",
    "        - sess: a tensorflow session\n",
    "        - feed_dict: parameter for sess.run()\n",
    "        - greedy: boolean, whether to take action greedily\n",
    "        Return:\n",
    "            Integer, action to be taken.\n",
    "        \"\"\"\n",
    "        ans = sess.run(self.output, feed_dict=feed_dict)[0]\n",
    "        if greedy:\n",
    "            return ans.argmax()\n",
    "        else:\n",
    "            return np.random.choice(range(self.action_size), p=ans)\n",
    "\n",
    "    def show_parameters(self):\n",
    "        \"\"\"Helper function to show the hyper parameters.\"\"\"\n",
    "        for key, value in self.params.items():\n",
    "            print(key, '=', value)\n",
    "\n",
    "\n",
    "render = False\n",
    "update_every = 3\n",
    "print_every = 50\n",
    "n_episodes = 5\n",
    "rate = 0.01\n",
    "running_reward = 0.0\n",
    "tf.reset_default_graph()\n",
    "agent = Agent(hidden_size=10, alpha=1e-1, gamma=0.95)\n",
    "agent.show_parameters()\n",
    "env = gym.make('CartPole-v0')\n",
    "#env = wrappers.Monitor(env, 'tmp/trial/', force=True)\n",
    "with tf.Session() as sess:\n",
    "    tf.global_variables_initializer().run()\n",
    "    grad_buffer = sess.run(tf.trainable_variables())\n",
    "    for idx in range(len(grad_buffer)):\n",
    "        grad_buffer[idx] *= 0\n",
    "    for i in range(n_episodes):\n",
    "        s = env.reset()\n",
    "        state_history = []\n",
    "        reward_history = []\n",
    "        action_history = []\n",
    "        current_reward = 0\n",
    "        while True:\n",
    "            feed_dict = {agent.input_pl: [s]}\n",
    "            greedy = False\n",
    "            action = agent.next_action(sess, feed_dict, greedy=greedy)\n",
    "            snext, r, done, _ = env.step(action)\n",
    "            if render and i % 50 == 0:\n",
    "                env.render()\n",
    "            current_reward += r\n",
    "            state_history.append(s)\n",
    "            reward_history.append(r)\n",
    "            action_history.append(action)\n",
    "            s = snext\n",
    "            if done:\n",
    "                state_history = np.array(state_history)\n",
    "                rewards = discounted_reward(reward_history, agent.gamma)\n",
    "                R = rewards\n",
    "                # normalizing the reward really helps\n",
    "                rewards = (rewards - np.mean(rewards)) / np.std(rewards)\n",
    "                feed_dict = {\n",
    "                    agent.reward_pl: rewards,\n",
    "                    agent.action_pl: action_history,\n",
    "                    agent.input_pl: state_history\n",
    "                }\n",
    "                episode_gradients = sess.run(agent.gradients,\n",
    "                                             feed_dict=feed_dict)\n",
    "                print(\"updating ep gradient\")\n",
    "                for idx, grad in enumerate(episode_gradients):\n",
    "                    grad_buffer[idx] += grad\n",
    "\n",
    "                if i % update_every == 0:\n",
    "                    print('updating')\n",
    "                    feed_dict = dict(zip(agent.variable_pls, grad_buffer))\n",
    "                    sess.run(agent.update, feed_dict=feed_dict)\n",
    "                    # reset the buffer to zero\n",
    "                    for idx in range(len(grad_buffer)):\n",
    "                        grad_buffer[idx] *= 0\n",
    "                if i % print_every == 0:\n",
    "                    print('episode %d, current_reward %d, running_reward %d' % (i, current_reward, running_reward))\n",
    "                break\n",
    "        running_reward = rate * current_reward + (1 - rate) * running_reward\n",
    "\n",
    "\n",
    "#if __name__ == '__main__':\n",
    "#    test()\n",
    "#train()"
   ]
  }
 ],
 "metadata": {
  "kernelspec": {
   "display_name": "Python 3",
   "language": "python",
   "name": "python3"
  },
  "language_info": {
   "codemirror_mode": {
    "name": "ipython",
    "version": 3
   },
   "file_extension": ".py",
   "mimetype": "text/x-python",
   "name": "python",
   "nbconvert_exporter": "python",
   "pygments_lexer": "ipython3",
   "version": "3.6.1"
  }
 },
 "nbformat": 4,
 "nbformat_minor": 2
}
